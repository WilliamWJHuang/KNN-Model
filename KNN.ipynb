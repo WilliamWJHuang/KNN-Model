{
 "cells": [
  {
   "cell_type": "code",
   "execution_count": 1,
   "metadata": {
    "collapsed": true
   },
   "outputs": [],
   "source": [
    "import numpy as np\n",
    "import pandas as pd\n",
    "\n",
    "class Knn:\n",
    "# k-Nearest Neighbor class object for classification training and testing\n",
    "    def __init__(self):\n",
    "        pass\n",
    "    \n",
    "    def fit(self, x, y):\n",
    "        # Save the training data to properties of this class\n",
    "        self.x = x\n",
    "        self.y = y\n",
    "\n",
    "    def predict(self, x, k):\n",
    "        y_hat = [] # Variable to store the estimated class label for \n",
    "        # Calculate the distance from each vector in x to the training data\n",
    "        for i in range(x.shape[0]):\n",
    "            dist = np.sum(np.sqrt(np.square(self.x - x[i])), axis = 1)\n",
    "            dist_df = pd.DataFrame(dist)\n",
    "            feature_df = pd.DataFrame(self.y)\n",
    "            mix = pd.concat([dist_df, feature_df],axis=1)\n",
    "            mix.columns = ['dist', 'feature']\n",
    "            mix = mix.sort_values(by = ['dist'],ascending = True)\n",
    "            \n",
    "        #select K closest points\n",
    "            avg_pred = pd.Series.mean(mix.iloc[:k, 1])\n",
    "            if avg_pred > 0.5:\n",
    "                avg_pred = 1\n",
    "            else:\n",
    "                avg_pred = 0\n",
    "            y_hat.append(avg_pred)\n",
    "        # Return the estimated targets\n",
    "        return y_hat\n",
    "\n",
    "    \n",
    "    \n",
    "# Metric of overall classification accuracy\n",
    "#  (a more general function, sklearn.metrics.accuracy_score, is also available)\n",
    "def accuracy(y,y_hat):\n",
    "    nvalues = len(y)\n",
    "    accuracy = sum(y == y_hat) / nvalues\n",
    "    return accuracy"
   ]
  },
  {
   "cell_type": "code",
   "execution_count": null,
   "metadata": {
    "collapsed": true
   },
   "outputs": [],
   "source": []
  }
 ],
 "metadata": {
  "kernelspec": {
   "display_name": "Python 3",
   "language": "python",
   "name": "python3"
  },
  "language_info": {
   "codemirror_mode": {
    "name": "ipython",
    "version": 3
   },
   "file_extension": ".py",
   "mimetype": "text/x-python",
   "name": "python",
   "nbconvert_exporter": "python",
   "pygments_lexer": "ipython3",
   "version": "3.6.3"
  }
 },
 "nbformat": 4,
 "nbformat_minor": 2
}
